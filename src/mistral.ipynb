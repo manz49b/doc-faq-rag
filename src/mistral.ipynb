{
 "cells": [
  {
   "cell_type": "code",
   "execution_count": 2,
   "metadata": {},
   "outputs": [
    {
     "name": "stdout",
     "output_type": "stream",
     "text": [
      "Password:\n",
      "sudo: a password is required\n",
      "xcode-select: note: Command line tools are already installed. Use \"Software Update\" in System Settings or the softwareupdate command line interface to install updates\n"
     ]
    }
   ],
   "source": [
    "# run in terminal\n",
    "\n",
    "# only run if you dont already have python dev tools\n",
    "sudo xcode-select --reset\n",
    "xcode-select --install\n",
    "\n",
    "\n",
    "# download a model version\n",
    "git clone https://github.com/ggerganov/llama.cpp\n",
    "cd llama.cpp\n",
    "mkdir build\n",
    "cd build\n",
    "cmake .. -DCMAKE_APPLE_SILICON_PROCESSOR=arm64 \n",
    "make -j"
   ]
  }
 ],
 "metadata": {
  "kernelspec": {
   "display_name": "doc-faq-rag",
   "language": "python",
   "name": "python3"
  },
  "language_info": {
   "codemirror_mode": {
    "name": "ipython",
    "version": 3
   },
   "file_extension": ".py",
   "mimetype": "text/x-python",
   "name": "python",
   "nbconvert_exporter": "python",
   "pygments_lexer": "ipython3",
   "version": "3.10.13"
  }
 },
 "nbformat": 4,
 "nbformat_minor": 2
}
